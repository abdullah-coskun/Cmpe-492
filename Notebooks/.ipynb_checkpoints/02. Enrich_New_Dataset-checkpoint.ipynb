{
 "cells": [
  {
   "cell_type": "markdown",
   "metadata": {
    "colab_type": "text",
    "id": "g1pBEJLFXgGd"
   },
   "source": [
    "# RE19-classification: enrichment of a new dataset with features determined KM\n",
    "\n",
    "This notebook takes as input a previously enriched dataset d1 (from notebook 01_reconstruction_KM) and a new dataset d2 to be enriched, and enriches d2 by calculating the values for all the features from .d1."
   ]
  },
  {
   "cell_type": "markdown",
   "metadata": {
    "colab_type": "text",
    "id": "i4UYLLiWXgGp"
   },
   "source": [
    "## 0. Set up (optional)\n",
    "\n",
    "Run the following install functions if running Jupyter on a cloud environment like Colaboratory, which does not allow you to install the libraries permanently on your local machine"
   ]
  },
  {
   "cell_type": "code",
   "execution_count": 1,
   "metadata": {
    "colab": {},
    "colab_type": "code",
    "id": "TMoT1F60XgGy"
   },
   "outputs": [
    {
     "name": "stdout",
     "output_type": "stream",
     "text": [
      "Requirement already satisfied: cython in /Library/Frameworks/Python.framework/Versions/3.7/lib/python3.7/site-packages (0.29.13)\n",
      "Requirement already satisfied: numpy in /Library/Frameworks/Python.framework/Versions/3.7/lib/python3.7/site-packages (1.17.2)\n",
      "Requirement already satisfied: benepar[cpu] in /Library/Frameworks/Python.framework/Versions/3.7/lib/python3.7/site-packages (0.1.2)\n",
      "Requirement already satisfied: cython in /Library/Frameworks/Python.framework/Versions/3.7/lib/python3.7/site-packages (from benepar[cpu]) (0.29.13)\n",
      "Requirement already satisfied: numpy in /Library/Frameworks/Python.framework/Versions/3.7/lib/python3.7/site-packages (from benepar[cpu]) (1.17.2)\n",
      "Requirement already satisfied: nltk>=3.2 in /Library/Frameworks/Python.framework/Versions/3.7/lib/python3.7/site-packages (from benepar[cpu]) (3.4.5)\n",
      "Requirement already satisfied: tensorflow>=1.11.0 in /Library/Frameworks/Python.framework/Versions/3.7/lib/python3.7/site-packages (from benepar[cpu]) (2.0.0)\n",
      "Requirement already satisfied: six in /Library/Frameworks/Python.framework/Versions/3.7/lib/python3.7/site-packages (from nltk>=3.2->benepar[cpu]) (1.11.0)\n",
      "Requirement already satisfied: gast==0.2.2 in /Library/Frameworks/Python.framework/Versions/3.7/lib/python3.7/site-packages (from tensorflow>=1.11.0->benepar[cpu]) (0.2.2)\n",
      "Requirement already satisfied: astor>=0.6.0 in /Library/Frameworks/Python.framework/Versions/3.7/lib/python3.7/site-packages (from tensorflow>=1.11.0->benepar[cpu]) (0.8.0)\n",
      "Requirement already satisfied: keras-applications>=1.0.8 in /Library/Frameworks/Python.framework/Versions/3.7/lib/python3.7/site-packages (from tensorflow>=1.11.0->benepar[cpu]) (1.0.8)\n",
      "Requirement already satisfied: wrapt>=1.11.1 in /Library/Frameworks/Python.framework/Versions/3.7/lib/python3.7/site-packages (from tensorflow>=1.11.0->benepar[cpu]) (1.11.2)\n",
      "Requirement already satisfied: wheel>=0.26 in /Library/Frameworks/Python.framework/Versions/3.7/lib/python3.7/site-packages (from tensorflow>=1.11.0->benepar[cpu]) (0.33.6)\n",
      "Requirement already satisfied: grpcio>=1.8.6 in /Library/Frameworks/Python.framework/Versions/3.7/lib/python3.7/site-packages (from tensorflow>=1.11.0->benepar[cpu]) (1.24.1)\n",
      "Requirement already satisfied: tensorflow-estimator<2.1.0,>=2.0.0 in /Library/Frameworks/Python.framework/Versions/3.7/lib/python3.7/site-packages (from tensorflow>=1.11.0->benepar[cpu]) (2.0.0)\n",
      "Requirement already satisfied: google-pasta>=0.1.6 in /Library/Frameworks/Python.framework/Versions/3.7/lib/python3.7/site-packages (from tensorflow>=1.11.0->benepar[cpu]) (0.1.7)\n",
      "Requirement already satisfied: opt-einsum>=2.3.2 in /Library/Frameworks/Python.framework/Versions/3.7/lib/python3.7/site-packages (from tensorflow>=1.11.0->benepar[cpu]) (3.1.0)\n",
      "Requirement already satisfied: protobuf>=3.6.1 in /Library/Frameworks/Python.framework/Versions/3.7/lib/python3.7/site-packages (from tensorflow>=1.11.0->benepar[cpu]) (3.10.0)\n",
      "Requirement already satisfied: keras-preprocessing>=1.0.5 in /Library/Frameworks/Python.framework/Versions/3.7/lib/python3.7/site-packages (from tensorflow>=1.11.0->benepar[cpu]) (1.1.0)\n",
      "Requirement already satisfied: tensorboard<2.1.0,>=2.0.0 in /Library/Frameworks/Python.framework/Versions/3.7/lib/python3.7/site-packages (from tensorflow>=1.11.0->benepar[cpu]) (2.0.0)\n",
      "Requirement already satisfied: absl-py>=0.7.0 in /Library/Frameworks/Python.framework/Versions/3.7/lib/python3.7/site-packages (from tensorflow>=1.11.0->benepar[cpu]) (0.8.0)\n",
      "Requirement already satisfied: termcolor>=1.1.0 in /Library/Frameworks/Python.framework/Versions/3.7/lib/python3.7/site-packages (from tensorflow>=1.11.0->benepar[cpu]) (1.1.0)\n",
      "Requirement already satisfied: h5py in /Library/Frameworks/Python.framework/Versions/3.7/lib/python3.7/site-packages (from keras-applications>=1.0.8->tensorflow>=1.11.0->benepar[cpu]) (2.10.0)\n",
      "Requirement already satisfied: setuptools in /Library/Frameworks/Python.framework/Versions/3.7/lib/python3.7/site-packages (from protobuf>=3.6.1->tensorflow>=1.11.0->benepar[cpu]) (41.2.0)\n",
      "Requirement already satisfied: werkzeug>=0.11.15 in /Library/Frameworks/Python.framework/Versions/3.7/lib/python3.7/site-packages (from tensorboard<2.1.0,>=2.0.0->tensorflow>=1.11.0->benepar[cpu]) (0.14.1)\n",
      "Requirement already satisfied: markdown>=2.6.8 in /Library/Frameworks/Python.framework/Versions/3.7/lib/python3.7/site-packages (from tensorboard<2.1.0,>=2.0.0->tensorflow>=1.11.0->benepar[cpu]) (3.1.1)\n"
     ]
    }
   ],
   "source": [
    "!pip install cython numpy\n",
    "!pip install benepar[cpu]\n"
   ]
  },
  {
   "cell_type": "markdown",
   "metadata": {
    "colab_type": "text",
    "id": "PPplS2cpXgHN"
   },
   "source": [
    "## 1. Import libraries"
   ]
  },
  {
   "cell_type": "code",
   "execution_count": 2,
   "metadata": {
    "colab": {},
    "colab_type": "code",
    "id": "c4nPAVAEXgHY"
   },
   "outputs": [
    {
     "name": "stderr",
     "output_type": "stream",
     "text": [
      "[nltk_data] Error loading punkt: <urlopen error [SSL:\n",
      "[nltk_data]     CERTIFICATE_VERIFY_FAILED] certificate verify failed:\n",
      "[nltk_data]     unable to get local issuer certificate (_ssl.c:1076)>\n",
      "[nltk_data] Error loading averaged_perceptron_tagger: <urlopen error\n",
      "[nltk_data]     [SSL: CERTIFICATE_VERIFY_FAILED] certificate verify\n",
      "[nltk_data]     failed: unable to get local issuer certificate\n",
      "[nltk_data]     (_ssl.c:1076)>\n",
      "[nltk_data] Error loading wordnet: <urlopen error [SSL:\n",
      "[nltk_data]     CERTIFICATE_VERIFY_FAILED] certificate verify failed:\n",
      "[nltk_data]     unable to get local issuer certificate (_ssl.c:1076)>\n",
      "[nltk_data] Error loading benepar_en2: <urlopen error [SSL:\n",
      "[nltk_data]     CERTIFICATE_VERIFY_FAILED] certificate verify failed:\n",
      "[nltk_data]     unable to get local issuer certificate (_ssl.c:1076)>\n"
     ]
    }
   ],
   "source": [
    "# Basic numpy, sklearn, pandas libraries\n",
    "import pandas as pd\n",
    "from sklearn.ensemble import GradientBoostingClassifier, RandomForestClassifier, AdaBoostClassifier, ExtraTreesClassifier\n",
    "from sklearn.model_selection import train_test_split\n",
    "import numpy as np\n",
    "from IPython.display import display\n",
    "\n",
    "# Basic NLTK tooling\n",
    "import nltk\n",
    "nltk.download('punkt')\n",
    "nltk.download('averaged_perceptron_tagger')\n",
    "nltk.download('wordnet')\n",
    "from nltk.tokenize import RegexpTokenizer\n",
    "\n",
    "tokenizer = RegexpTokenizer(r'\\w+')\n",
    "\n",
    "# The benepar parser -- this is supposed to be a better parser than Stanford's parser used in the RE'17 paper\n",
    "import benepar\n",
    "benepar.download('benepar_en2')\n",
    "\n",
    "# Tqdm, for progress bars -- useful to show that the parsing is working\n",
    "from tqdm import tqdm"
   ]
  },
  {
   "cell_type": "markdown",
   "metadata": {
    "colab_type": "text",
    "id": "MBTYma3AXgIE"
   },
   "source": [
    "## [Functions] dataset enrichment\n",
    "\n",
    "Additional features are added, if also present in the original dataset."
   ]
  },
  {
   "cell_type": "code",
   "execution_count": 3,
   "metadata": {
    "colab": {},
    "colab_type": "code",
    "id": "yLmhUSlmXgIJ"
   },
   "outputs": [],
   "source": [
    "def enrich_ling(data):\n",
    "  # Text length\n",
    "  if 'Length' in data.columns:\n",
    "    data['Length'] = 0\n",
    "    idx = 0\n",
    "    for x in data['RequirementText']:\n",
    "        data.at[idx, 'Length'] = len(x)\n",
    "        idx = idx + 1  \n",
    "\n",
    "  # POS tags and tree information\n",
    "  parser = benepar.Parser(\"benepar_en2\")\n",
    "  if 'Modal' in data.columns:\n",
    "    data['Modal'] = 0.0\n",
    "  if 'Adjective' in data.columns:\n",
    "    data['Adjective'] = 0.0\n",
    "  if 'Noun' in data.columns:\n",
    "    data['Noun'] = 0.0\n",
    "  if 'Adverb' in data.columns:\n",
    "    data['Adverb'] = 0.0\n",
    "  if 'Verb' in data.columns:\n",
    "    data['Verb'] = 0.0\n",
    "  if 'TreeHeight' in data.columns:\n",
    "    data['TreeHeight'] = 0\n",
    "  if 'SubTrees' in data.columns:\n",
    "    data['SubTrees'] = 0\n",
    "\n",
    "  idx = 0\n",
    "  for req in tqdm(data['RequirementText'], desc='Parse trees', position=0):\n",
    "      tokens = tokenizer.tokenize(req)\n",
    "      if 'Words' in data.columns:\n",
    "        data.at[idx, 'Words'] = len(tokens)\n",
    "      tags = nltk.pos_tag(tokens)\n",
    "      fd = nltk.FreqDist(tag for (word, tag) in tags)\n",
    "      for key, value in fd.items():\n",
    "          if key==\"MD\" and 'Modal' in data.columns:\n",
    "              data.at[idx, 'Modal'] = value\n",
    "          if key.startswith(\"JJ\") and 'Adjective' in data.columns:\n",
    "              data.at[idx, 'Adjective'] = value\n",
    "          if key.startswith(\"VB\") and 'Verb' in data.columns:\n",
    "              data.at[idx, 'Verb'] = value\n",
    "          if key.startswith(\"NN\") and 'Noun' in data.columns:\n",
    "              data.at[idx, 'Noun'] = value\n",
    "          if key==\"RB\" and 'Adverb' in data.columns:\n",
    "              data.at[idx, 'Adverb'] = value\n",
    "      if 'Modal' in data.columns:\n",
    "        data.at[idx, 'Modal'] = data.at[idx, 'Modal'] / len(tokens)\n",
    "      if 'Adjective' in data.columns:\n",
    "        data.at[idx, 'Adjective'] = data.at[idx, 'Adjective'] / len(tokens)\n",
    "      if 'Noun' in data.columns:\n",
    "        data.at[idx, 'Noun'] = data.at[idx, 'Noun'] / len(tokens)\n",
    "      if 'Adverb' in data.columns:\n",
    "        data.at[idx, 'Adverb'] = data.at[idx, 'Adverb'] / len(tokens)\n",
    "      if 'Verb' in data.columns:\n",
    "        data.at[idx, 'Verb'] = data.at[idx, 'Verb'] / len(tokens)       \n",
    "      tree = parser.parse(req)\n",
    "      if 'TreeHeight' in data.columns:\n",
    "        data.at[idx, 'TreeHeight'] = tree.height()\n",
    "      if 'SubTrees' in data.columns:\n",
    "        data.at[idx, 'SubTrees'] = len(tree)\n",
    "      idx = idx + 1    \n",
    "\n",
    "  print(data.head())"
   ]
  },
  {
   "cell_type": "code",
   "execution_count": 4,
   "metadata": {
    "colab": {},
    "colab_type": "code",
    "id": "C9cYs59nXgIe"
   },
   "outputs": [],
   "source": [
    "from nltk.util import ngrams\n",
    "from collections import Counter\n",
    "from sklearn.feature_extraction import stop_words\n",
    "from nltk.stem import WordNetLemmatizer\n",
    "\n",
    "def enrich_ngram(data, file, target, nrfeat):\n",
    "  bigrams = []\n",
    "  trigrams = []\n",
    "  frequencies = Counter([])\n",
    "  frequencies2 = Counter([])\n",
    "  frequencies3 = Counter([])\n",
    "  pfrequencies = Counter([])\n",
    "  pfrequencies2 = Counter([])\n",
    "  pfrequencies3 = Counter([])\n",
    "\n",
    "  wn_lemmatizer = WordNetLemmatizer()\n",
    "\n",
    "  # Generation of [1, 2, 3] textgrams, [1, 2, 3] POSgrams\n",
    "  for req in tqdm(data['RequirementText'], desc='n-grams generation', position=0):\n",
    "      token = tokenizer.tokenize(req)\n",
    "      token = [word.lower() for word in token]\n",
    "      tags = nltk.pos_tag(token)\n",
    "      token = [w for w in token if not w in stop_words.ENGLISH_STOP_WORDS]\n",
    "      token = [wn_lemmatizer.lemmatize(w) for w in token]\n",
    "      frequencies += Counter(token)\n",
    "      bigrams = ngrams(token,2)\n",
    "      trigrams = ngrams(token,3)\n",
    "      frequencies2 += Counter(bigrams)\n",
    "      frequencies3 += Counter(trigrams)\n",
    "      punigrams = [tag for (word, tag) in tags]\n",
    "      pfrequencies += Counter(punigrams)\n",
    "      pbigrams = ngrams([tag for (word, tag) in tags], 2)\n",
    "      pfrequencies2 += Counter(pbigrams)\n",
    "      ptrigrams = ngrams([tag for (word, tag) in tags], 3)\n",
    "      pfrequencies3 += Counter(ptrigrams)\n",
    "\n",
    "  #print (len(frequencies), len(frequencies2), len(frequencies3), len(pfrequencies), len(pfrequencies2), len(pfrequencies3))\n",
    "\n",
    "  # Populating the n-grams\n",
    "  idx = 0\n",
    "  for req in tqdm(data['RequirementText'], desc='n-grams population', position=0):\n",
    "      token = tokenizer.tokenize(req)\n",
    "\n",
    "      for t in token:\n",
    "        exists = [col for col in data.columns if col == str('_' + t + '_')]\n",
    "        if exists != []:\n",
    "          data.at[idx, exists] = 1\n",
    "\n",
    "      bigrams = ngrams(token,2)\n",
    "      for bg in bigrams:\n",
    "        exists = [col for col in data.columns if col == str('_' + bg[0] + '_' + bg[1] + '_')]\n",
    "        if exists != []:\n",
    "          data.at[idx, exists] = 1\n",
    "\n",
    "      trigrams = ngrams(token,3)\n",
    "      for tg in trigrams:\n",
    "        exists = [col for col in data.columns if col == str('_' + tg[0] + '_' + tg[1] + '_' + tg[2] + '_')]\n",
    "        if exists != []:\n",
    "          data.at[idx, exists] = 1\n",
    "\n",
    "      tags = nltk.pos_tag(token)\n",
    "\n",
    "      for t in tags:\n",
    "        exists = [col for col in data.columns if col == str(t)]\n",
    "        if exists != []:\n",
    "          data.at[idx, exists] = 1\n",
    "\n",
    "      pbigrams = ngrams([tag for (word, tag) in tags], 2)\n",
    "      for bg in pbigrams:\n",
    "        exists = [col for col in data.columns if col == str(bg[0] + '_' + bg[1])]\n",
    "        if exists != []:\n",
    "          data.at[idx, exists] = 1\n",
    "\n",
    "      ptrigrams = ngrams([tag for (word, tag) in tags], 3)\n",
    "      for tg in ptrigrams:\n",
    "        exists = [col for col in data.columns if col == str(tg[0] + '_' + tg[1] + '_' + tg[2])]\n",
    "        if exists != []:\n",
    "          data.at[idx, exists] = 1\n",
    "\n",
    "      idx = idx + 1\n",
    "\n",
    "  data = data.fillna(0.0)\n",
    "\n",
    "  # for column in data.columns:\n",
    "  #   if data[column].isnull().sum()==len(data):\n",
    "  #     data[column] = 0.0\n",
    "\n",
    "  data.columns = data.columns.map(str)\n",
    "\n",
    "  print (data.head())\n",
    "\n",
    "  # The new enriched dataset is now saved\n",
    "  data.to_csv(file + '-tagged-' + str(nrfeat) + '-' + target + '.csv', encoding='utf-8')"
   ]
  },
  {
   "cell_type": "code",
   "execution_count": 5,
   "metadata": {
    "colab": {},
    "colab_type": "code",
    "id": "PfcZA9gj1Kuf"
   },
   "outputs": [],
   "source": [
    "def enrich_dataset(file, target, nrfeat, data):\n",
    "  data = data[0:0]\n",
    "\n",
    "  # Take the new dataset\n",
    "\n",
    "  data2 = pd.read_csv(file + '.csv', engine='python')\n",
    "  data['RequirementText'] = data2['RequirementText']\n",
    "  data['ProjectID'] = 1\n",
    "  data['Class'] = 'F'\n",
    "  if target == 'q' or target == 'f':\n",
    "    data['IsFunctional'] = data2['IsFunctional']\n",
    "    data['IsQuality'] = data2['IsQuality']\n",
    "\n",
    "  if target == 'oq':\n",
    "    data['OnlyQuality'] = ~data2['IsFunctional'] & data2['IsQuality']\n",
    "\n",
    "  if target == 'of':\n",
    "    data['OnlyFunctional'] = data2['IsFunctional'] & ~data2['IsQuality']\n",
    "\n",
    "\n",
    "  data = data.drop(data.columns[0], axis=1)\n",
    "\n",
    "  print (data.head())\n",
    "\n",
    "  enrich_ling(data)\n",
    "  enrich_ngram(data, file, target, nrfeat)"
   ]
  },
  {
   "cell_type": "markdown",
   "metadata": {
    "colab_type": "text",
    "id": "5O8ArruqXgHv"
   },
   "source": [
    "## 3. Main file\n",
    "\n",
    "Imports the enriched data set and the new dataset, then invokes the other functions"
   ]
  },
  {
   "cell_type": "code",
   "execution_count": 6,
   "metadata": {
    "colab": {
     "base_uri": "https://localhost:8080/",
     "height": 1000
    },
    "colab_type": "code",
    "id": "J7jMWl49XgHy",
    "outputId": "57646ce1-7ff8-445a-c577-0bc7f8dbffb9"
   },
   "outputs": [
    {
     "ename": "FileNotFoundError",
     "evalue": "[Errno 2] No such file or directory: './promise-km-100-f.csv'",
     "output_type": "error",
     "traceback": [
      "\u001b[0;31m---------------------------------------------------------------------------\u001b[0m",
      "\u001b[0;31mFileNotFoundError\u001b[0m                         Traceback (most recent call last)",
      "\u001b[0;32m<ipython-input-6-e9eadc4069f1>\u001b[0m in \u001b[0;36m<module>\u001b[0;34m\u001b[0m\n\u001b[1;32m      8\u001b[0m   \u001b[0;32mfor\u001b[0m \u001b[0mt\u001b[0m \u001b[0;32min\u001b[0m \u001b[0mtarget_type\u001b[0m\u001b[0;34m:\u001b[0m\u001b[0;34m\u001b[0m\u001b[0;34m\u001b[0m\u001b[0m\n\u001b[1;32m      9\u001b[0m     \u001b[0;31m# Loading the originally enriched PROMISE data set\u001b[0m\u001b[0;34m\u001b[0m\u001b[0;34m\u001b[0m\u001b[0;34m\u001b[0m\u001b[0m\n\u001b[0;32m---> 10\u001b[0;31m     \u001b[0mdata\u001b[0m \u001b[0;34m=\u001b[0m \u001b[0mpd\u001b[0m\u001b[0;34m.\u001b[0m\u001b[0mread_csv\u001b[0m\u001b[0;34m(\u001b[0m\u001b[0msource_folder\u001b[0m\u001b[0;34m+\u001b[0m\u001b[0;34m'promise-km-'\u001b[0m \u001b[0;34m+\u001b[0m \u001b[0mstr\u001b[0m\u001b[0;34m(\u001b[0m\u001b[0mtop_n_feat\u001b[0m\u001b[0;34m)\u001b[0m \u001b[0;34m+\u001b[0m \u001b[0;34m'-'\u001b[0m \u001b[0;34m+\u001b[0m \u001b[0mt\u001b[0m \u001b[0;34m+\u001b[0m \u001b[0;34m'.csv'\u001b[0m\u001b[0;34m,\u001b[0m \u001b[0mengine\u001b[0m\u001b[0;34m=\u001b[0m\u001b[0;34m'python'\u001b[0m\u001b[0;34m)\u001b[0m\u001b[0;34m\u001b[0m\u001b[0;34m\u001b[0m\u001b[0m\n\u001b[0m\u001b[1;32m     11\u001b[0m     \u001b[0;31m# enrich the new one\u001b[0m\u001b[0;34m\u001b[0m\u001b[0;34m\u001b[0m\u001b[0;34m\u001b[0m\u001b[0m\n\u001b[1;32m     12\u001b[0m     \u001b[0menrich_dataset\u001b[0m\u001b[0;34m(\u001b[0m\u001b[0mfile\u001b[0m\u001b[0;34m=\u001b[0m\u001b[0msource_folder\u001b[0m\u001b[0;34m+\u001b[0m\u001b[0mf\u001b[0m\u001b[0;34m,\u001b[0m \u001b[0mtarget\u001b[0m\u001b[0;34m=\u001b[0m\u001b[0mt\u001b[0m\u001b[0;34m,\u001b[0m \u001b[0mnrfeat\u001b[0m\u001b[0;34m=\u001b[0m\u001b[0mtop_n_feat\u001b[0m\u001b[0;34m,\u001b[0m \u001b[0mdata\u001b[0m\u001b[0;34m=\u001b[0m\u001b[0mdata\u001b[0m\u001b[0;34m)\u001b[0m\u001b[0;34m\u001b[0m\u001b[0;34m\u001b[0m\u001b[0m\n",
      "\u001b[0;32m/Library/Frameworks/Python.framework/Versions/3.7/lib/python3.7/site-packages/pandas/io/parsers.py\u001b[0m in \u001b[0;36mparser_f\u001b[0;34m(filepath_or_buffer, sep, delimiter, header, names, index_col, usecols, squeeze, prefix, mangle_dupe_cols, dtype, engine, converters, true_values, false_values, skipinitialspace, skiprows, skipfooter, nrows, na_values, keep_default_na, na_filter, verbose, skip_blank_lines, parse_dates, infer_datetime_format, keep_date_col, date_parser, dayfirst, cache_dates, iterator, chunksize, compression, thousands, decimal, lineterminator, quotechar, quoting, doublequote, escapechar, comment, encoding, dialect, error_bad_lines, warn_bad_lines, delim_whitespace, low_memory, memory_map, float_precision)\u001b[0m\n\u001b[1;32m    683\u001b[0m         )\n\u001b[1;32m    684\u001b[0m \u001b[0;34m\u001b[0m\u001b[0m\n\u001b[0;32m--> 685\u001b[0;31m         \u001b[0;32mreturn\u001b[0m \u001b[0m_read\u001b[0m\u001b[0;34m(\u001b[0m\u001b[0mfilepath_or_buffer\u001b[0m\u001b[0;34m,\u001b[0m \u001b[0mkwds\u001b[0m\u001b[0;34m)\u001b[0m\u001b[0;34m\u001b[0m\u001b[0;34m\u001b[0m\u001b[0m\n\u001b[0m\u001b[1;32m    686\u001b[0m \u001b[0;34m\u001b[0m\u001b[0m\n\u001b[1;32m    687\u001b[0m     \u001b[0mparser_f\u001b[0m\u001b[0;34m.\u001b[0m\u001b[0m__name__\u001b[0m \u001b[0;34m=\u001b[0m \u001b[0mname\u001b[0m\u001b[0;34m\u001b[0m\u001b[0;34m\u001b[0m\u001b[0m\n",
      "\u001b[0;32m/Library/Frameworks/Python.framework/Versions/3.7/lib/python3.7/site-packages/pandas/io/parsers.py\u001b[0m in \u001b[0;36m_read\u001b[0;34m(filepath_or_buffer, kwds)\u001b[0m\n\u001b[1;32m    455\u001b[0m \u001b[0;34m\u001b[0m\u001b[0m\n\u001b[1;32m    456\u001b[0m     \u001b[0;31m# Create the parser.\u001b[0m\u001b[0;34m\u001b[0m\u001b[0;34m\u001b[0m\u001b[0;34m\u001b[0m\u001b[0m\n\u001b[0;32m--> 457\u001b[0;31m     \u001b[0mparser\u001b[0m \u001b[0;34m=\u001b[0m \u001b[0mTextFileReader\u001b[0m\u001b[0;34m(\u001b[0m\u001b[0mfp_or_buf\u001b[0m\u001b[0;34m,\u001b[0m \u001b[0;34m**\u001b[0m\u001b[0mkwds\u001b[0m\u001b[0;34m)\u001b[0m\u001b[0;34m\u001b[0m\u001b[0;34m\u001b[0m\u001b[0m\n\u001b[0m\u001b[1;32m    458\u001b[0m \u001b[0;34m\u001b[0m\u001b[0m\n\u001b[1;32m    459\u001b[0m     \u001b[0;32mif\u001b[0m \u001b[0mchunksize\u001b[0m \u001b[0;32mor\u001b[0m \u001b[0miterator\u001b[0m\u001b[0;34m:\u001b[0m\u001b[0;34m\u001b[0m\u001b[0;34m\u001b[0m\u001b[0m\n",
      "\u001b[0;32m/Library/Frameworks/Python.framework/Versions/3.7/lib/python3.7/site-packages/pandas/io/parsers.py\u001b[0m in \u001b[0;36m__init__\u001b[0;34m(self, f, engine, **kwds)\u001b[0m\n\u001b[1;32m    893\u001b[0m             \u001b[0mself\u001b[0m\u001b[0;34m.\u001b[0m\u001b[0moptions\u001b[0m\u001b[0;34m[\u001b[0m\u001b[0;34m\"has_index_names\"\u001b[0m\u001b[0;34m]\u001b[0m \u001b[0;34m=\u001b[0m \u001b[0mkwds\u001b[0m\u001b[0;34m[\u001b[0m\u001b[0;34m\"has_index_names\"\u001b[0m\u001b[0;34m]\u001b[0m\u001b[0;34m\u001b[0m\u001b[0;34m\u001b[0m\u001b[0m\n\u001b[1;32m    894\u001b[0m \u001b[0;34m\u001b[0m\u001b[0m\n\u001b[0;32m--> 895\u001b[0;31m         \u001b[0mself\u001b[0m\u001b[0;34m.\u001b[0m\u001b[0m_make_engine\u001b[0m\u001b[0;34m(\u001b[0m\u001b[0mself\u001b[0m\u001b[0;34m.\u001b[0m\u001b[0mengine\u001b[0m\u001b[0;34m)\u001b[0m\u001b[0;34m\u001b[0m\u001b[0;34m\u001b[0m\u001b[0m\n\u001b[0m\u001b[1;32m    896\u001b[0m \u001b[0;34m\u001b[0m\u001b[0m\n\u001b[1;32m    897\u001b[0m     \u001b[0;32mdef\u001b[0m \u001b[0mclose\u001b[0m\u001b[0;34m(\u001b[0m\u001b[0mself\u001b[0m\u001b[0;34m)\u001b[0m\u001b[0;34m:\u001b[0m\u001b[0;34m\u001b[0m\u001b[0;34m\u001b[0m\u001b[0m\n",
      "\u001b[0;32m/Library/Frameworks/Python.framework/Versions/3.7/lib/python3.7/site-packages/pandas/io/parsers.py\u001b[0m in \u001b[0;36m_make_engine\u001b[0;34m(self, engine)\u001b[0m\n\u001b[1;32m   1145\u001b[0m                     \u001b[0;34m' \"python-fwf\")'\u001b[0m\u001b[0;34m.\u001b[0m\u001b[0mformat\u001b[0m\u001b[0;34m(\u001b[0m\u001b[0mengine\u001b[0m\u001b[0;34m=\u001b[0m\u001b[0mengine\u001b[0m\u001b[0;34m)\u001b[0m\u001b[0;34m\u001b[0m\u001b[0;34m\u001b[0m\u001b[0m\n\u001b[1;32m   1146\u001b[0m                 )\n\u001b[0;32m-> 1147\u001b[0;31m             \u001b[0mself\u001b[0m\u001b[0;34m.\u001b[0m\u001b[0m_engine\u001b[0m \u001b[0;34m=\u001b[0m \u001b[0mklass\u001b[0m\u001b[0;34m(\u001b[0m\u001b[0mself\u001b[0m\u001b[0;34m.\u001b[0m\u001b[0mf\u001b[0m\u001b[0;34m,\u001b[0m \u001b[0;34m**\u001b[0m\u001b[0mself\u001b[0m\u001b[0;34m.\u001b[0m\u001b[0moptions\u001b[0m\u001b[0;34m)\u001b[0m\u001b[0;34m\u001b[0m\u001b[0;34m\u001b[0m\u001b[0m\n\u001b[0m\u001b[1;32m   1148\u001b[0m \u001b[0;34m\u001b[0m\u001b[0m\n\u001b[1;32m   1149\u001b[0m     \u001b[0;32mdef\u001b[0m \u001b[0m_failover_to_python\u001b[0m\u001b[0;34m(\u001b[0m\u001b[0mself\u001b[0m\u001b[0;34m)\u001b[0m\u001b[0;34m:\u001b[0m\u001b[0;34m\u001b[0m\u001b[0;34m\u001b[0m\u001b[0m\n",
      "\u001b[0;32m/Library/Frameworks/Python.framework/Versions/3.7/lib/python3.7/site-packages/pandas/io/parsers.py\u001b[0m in \u001b[0;36m__init__\u001b[0;34m(self, f, **kwds)\u001b[0m\n\u001b[1;32m   2291\u001b[0m             \u001b[0mencoding\u001b[0m\u001b[0;34m=\u001b[0m\u001b[0mself\u001b[0m\u001b[0;34m.\u001b[0m\u001b[0mencoding\u001b[0m\u001b[0;34m,\u001b[0m\u001b[0;34m\u001b[0m\u001b[0;34m\u001b[0m\u001b[0m\n\u001b[1;32m   2292\u001b[0m             \u001b[0mcompression\u001b[0m\u001b[0;34m=\u001b[0m\u001b[0mself\u001b[0m\u001b[0;34m.\u001b[0m\u001b[0mcompression\u001b[0m\u001b[0;34m,\u001b[0m\u001b[0;34m\u001b[0m\u001b[0;34m\u001b[0m\u001b[0m\n\u001b[0;32m-> 2293\u001b[0;31m             \u001b[0mmemory_map\u001b[0m\u001b[0;34m=\u001b[0m\u001b[0mself\u001b[0m\u001b[0;34m.\u001b[0m\u001b[0mmemory_map\u001b[0m\u001b[0;34m,\u001b[0m\u001b[0;34m\u001b[0m\u001b[0;34m\u001b[0m\u001b[0m\n\u001b[0m\u001b[1;32m   2294\u001b[0m         )\n\u001b[1;32m   2295\u001b[0m         \u001b[0mself\u001b[0m\u001b[0;34m.\u001b[0m\u001b[0mhandles\u001b[0m\u001b[0;34m.\u001b[0m\u001b[0mextend\u001b[0m\u001b[0;34m(\u001b[0m\u001b[0mhandles\u001b[0m\u001b[0;34m)\u001b[0m\u001b[0;34m\u001b[0m\u001b[0;34m\u001b[0m\u001b[0m\n",
      "\u001b[0;32m/Library/Frameworks/Python.framework/Versions/3.7/lib/python3.7/site-packages/pandas/io/common.py\u001b[0m in \u001b[0;36m_get_handle\u001b[0;34m(path_or_buf, mode, encoding, compression, memory_map, is_text)\u001b[0m\n\u001b[1;32m    400\u001b[0m         \u001b[0;32melif\u001b[0m \u001b[0mis_text\u001b[0m\u001b[0;34m:\u001b[0m\u001b[0;34m\u001b[0m\u001b[0;34m\u001b[0m\u001b[0m\n\u001b[1;32m    401\u001b[0m             \u001b[0;31m# No explicit encoding\u001b[0m\u001b[0;34m\u001b[0m\u001b[0;34m\u001b[0m\u001b[0;34m\u001b[0m\u001b[0m\n\u001b[0;32m--> 402\u001b[0;31m             \u001b[0mf\u001b[0m \u001b[0;34m=\u001b[0m \u001b[0mopen\u001b[0m\u001b[0;34m(\u001b[0m\u001b[0mpath_or_buf\u001b[0m\u001b[0;34m,\u001b[0m \u001b[0mmode\u001b[0m\u001b[0;34m,\u001b[0m \u001b[0merrors\u001b[0m\u001b[0;34m=\u001b[0m\u001b[0;34m\"replace\"\u001b[0m\u001b[0;34m,\u001b[0m \u001b[0mnewline\u001b[0m\u001b[0;34m=\u001b[0m\u001b[0;34m\"\"\u001b[0m\u001b[0;34m)\u001b[0m\u001b[0;34m\u001b[0m\u001b[0;34m\u001b[0m\u001b[0m\n\u001b[0m\u001b[1;32m    403\u001b[0m         \u001b[0;32melse\u001b[0m\u001b[0;34m:\u001b[0m\u001b[0;34m\u001b[0m\u001b[0;34m\u001b[0m\u001b[0m\n\u001b[1;32m    404\u001b[0m             \u001b[0;31m# Binary mode\u001b[0m\u001b[0;34m\u001b[0m\u001b[0;34m\u001b[0m\u001b[0;34m\u001b[0m\u001b[0m\n",
      "\u001b[0;31mFileNotFoundError\u001b[0m: [Errno 2] No such file or directory: './promise-km-100-f.csv'"
     ]
    }
   ],
   "source": [
    "# Define the files that you want to process here.  \n",
    "source_folder = './'\n",
    "filename = ['dronology', 'ds2', 'ds3', 'reqview', 'wasp', 'leeds', 'esa-eucl-est'] #the datasets to enrich\n",
    "target_type = ['f', 'q', 'of', 'oq'] #the target class for the classification (different classes have different top_n features)\n",
    "top_n_feat = 100\n",
    "\n",
    "for f in filename:\n",
    "  for t in target_type:\n",
    "    # Loading the originally enriched PROMISE data set\n",
    "    data = pd.read_csv(source_folder+'promise-km-' + str(top_n_feat) + '-' + t + '.csv', engine='python')\n",
    "    # enrich the new one\n",
    "    enrich_dataset(file=source_folder+f, target=t, nrfeat=top_n_feat, data=data)"
   ]
  },
  {
   "cell_type": "code",
   "execution_count": null,
   "metadata": {},
   "outputs": [],
   "source": []
  }
 ],
 "metadata": {
  "colab": {
   "collapsed_sections": [],
   "name": "02_KM_enrichment.ipynb",
   "provenance": [],
   "toc_visible": true,
   "version": "0.3.2"
  },
  "kernelspec": {
   "display_name": "Python 3",
   "language": "python",
   "name": "python3"
  },
  "language_info": {
   "codemirror_mode": {
    "name": "ipython",
    "version": 3
   },
   "file_extension": ".py",
   "mimetype": "text/x-python",
   "name": "python",
   "nbconvert_exporter": "python",
   "pygments_lexer": "ipython3",
   "version": "3.7.4"
  }
 },
 "nbformat": 4,
 "nbformat_minor": 1
}
